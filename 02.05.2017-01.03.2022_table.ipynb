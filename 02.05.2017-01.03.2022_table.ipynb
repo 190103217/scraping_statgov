{
 "cells": [
  {
   "cell_type": "code",
   "execution_count": 1,
   "id": "a096898b",
   "metadata": {},
   "outputs": [],
   "source": [
    "import pandas as pd\n",
    "from docx import Document\n",
    "import os\n",
    "import time\n",
    "import re"
   ]
  },
  {
   "cell_type": "code",
   "execution_count": 2,
   "id": "5fd14e60",
   "metadata": {},
   "outputs": [
    {
     "data": {
      "text/plain": [
       "'/Users/ajsaule'"
      ]
     },
     "execution_count": 2,
     "metadata": {},
     "output_type": "execute_result"
    }
   ],
   "source": [
    "basedir = os.getcwd()\n",
    "basedir"
   ]
  },
  {
   "cell_type": "code",
   "execution_count": 4,
   "id": "acfe5d25",
   "metadata": {},
   "outputs": [],
   "source": [
    "dfs=[]"
   ]
  },
  {
   "cell_type": "code",
   "execution_count": 5,
   "id": "40af172b",
   "metadata": {},
   "outputs": [],
   "source": [
    "def table_read(document):\n",
    "    document = Document(\"/Users/ajsaule/Desktop/parse/2 may 2017 - 1 mar 2022/\"+file)\n",
    "    f=re.findall(r'по.*года', document.paragraphs[1].text)\n",
    "    for i in range(len(document.tables)):\n",
    "        if 2<=i<=4:\n",
    "            table=document.tables[i]\n",
    "            data = [[cell.text for cell in row.cells] for row in table.rows]\n",
    "            df = pd.DataFrame(data)\n",
    "            df['date']=f[0]\n",
    "            dfs.append(pd.DataFrame(df))"
   ]
  },
  {
   "cell_type": "code",
   "execution_count": 6,
   "id": "f730b690",
   "metadata": {},
   "outputs": [],
   "source": [
    "path ='/Users/ajsaule/Desktop/parse/2 may 2017 - 1 mar 2022/'\n",
    "files = os.listdir(path)\n",
    "for file in files:\n",
    "    time.sleep(3)\n",
    "    if file.endswith('.docx'):\n",
    "        table_read(file)"
   ]
  },
  {
   "cell_type": "code",
   "execution_count": null,
   "id": "4c05939b",
   "metadata": {},
   "outputs": [],
   "source": [
    "len(dfs)"
   ]
  },
  {
   "cell_type": "code",
   "execution_count": 7,
   "id": "5b1c17da",
   "metadata": {},
   "outputs": [],
   "source": [
    "dfs_temp=[]\n",
    "dfs_temp_1=[]\n",
    "dfs_temp_2=[]"
   ]
  },
  {
   "cell_type": "code",
   "execution_count": 8,
   "id": "581f2001",
   "metadata": {},
   "outputs": [],
   "source": [
    "table_1=dfs[0::3]\n",
    "for t1 in table_1:\n",
    "    time.sleep(2)\n",
    "    df_1=pd.DataFrame(t1)\n",
    "    outside_col, inside_col = df_1.iloc[0], df_1.iloc[1]\n",
    "    df_1.columns = pd.MultiIndex.from_tuples(list(zip(outside_col,inside_col)))\n",
    "    df_1=df_1.drop(df_1.index[[0,1]]).reset_index(drop=True).drop('с начала месяца', axis=1, level=1).droplevel(level=1, axis=1).rename( columns={'':'region'})\n",
    "    df_1=df_1.rename(columns={df_1.columns[7]: 'date'})\n",
    "    df_1=df_1.melt(id_vars=['region', 'date'], var_name=\"type_of_goods\", value_name=\"price_in_per\")\n",
    "    #df_1 = pd.concat()\n",
    "    dfs_temp.append(df_1)\n",
    "\n",
    "dfs_temp = pd.concat(dfs_temp).reset_index().drop(columns=['index'])\n",
    "time.sleep(2)\n",
    "table_2=dfs[1::3]\n",
    "for t2 in table_2:\n",
    "    time.sleep(3)\n",
    "    df_2=pd.DataFrame(t2)\n",
    "    df_2= df_2.rename(columns=df_2.iloc[0]).drop(df_2.index[0]).reset_index(drop=True).rename( columns={'':'region'})\n",
    "    df_2=df_2.rename(columns={df_2.columns[8]: 'date'})\n",
    "    df_2=df_2.melt(id_vars=['region', 'date'], var_name=\"type_of_goods\", value_name=\"price_in_per\")\n",
    "    #df_1 = pd.concat()\n",
    "    dfs_temp_1.append(df_2)\n",
    "\n",
    "dfs_temp_1 = pd.concat(dfs_temp_1).reset_index().drop(columns=['index'])\n",
    "time.sleep(2)\n",
    "table_3=dfs[2::3]\n",
    "for t3 in table_3:\n",
    "    time.sleep(3)\n",
    "    df_3=pd.DataFrame(t3)\n",
    "    df_3= df_3.rename(columns=df_3.iloc[0]).drop(df_3.index[0]).reset_index(drop=True).rename( columns={'':'region'})\n",
    "    df_3=df_3.rename(columns={df_3.columns[8]: 'date'})\n",
    "    df_3=df_3.melt(id_vars=['region', 'date'], var_name=\"type_of_goods\", value_name=\"price_in_per\")\n",
    "    #df_1 = pd.concat()\n",
    "    dfs_temp_2.append(df_3)\n",
    "\n",
    "dfs_temp_2 = pd.concat(dfs_temp_2).reset_index().drop(columns=['index'])\n",
    "time.sleep(2)\n"
   ]
  },
  {
   "cell_type": "code",
   "execution_count": 8,
   "id": "8263771c",
   "metadata": {},
   "outputs": [],
   "source": [
    "l_pd_2=[dfs_temp, dfs_temp_1, dfs_temp_2]\n",
    "n_df=pd.concat(l_pd_2)"
   ]
  },
  {
   "cell_type": "code",
   "execution_count": 9,
   "id": "42a6a589",
   "metadata": {},
   "outputs": [
    {
     "data": {
      "text/html": [
       "<div>\n",
       "<style scoped>\n",
       "    .dataframe tbody tr th:only-of-type {\n",
       "        vertical-align: middle;\n",
       "    }\n",
       "\n",
       "    .dataframe tbody tr th {\n",
       "        vertical-align: top;\n",
       "    }\n",
       "\n",
       "    .dataframe thead th {\n",
       "        text-align: right;\n",
       "    }\n",
       "</style>\n",
       "<table border=\"1\" class=\"dataframe\">\n",
       "  <thead>\n",
       "    <tr style=\"text-align: right;\">\n",
       "      <th></th>\n",
       "      <th>region</th>\n",
       "      <th>date</th>\n",
       "      <th>type_of_goods</th>\n",
       "      <th>price_in_per</th>\n",
       "    </tr>\n",
       "  </thead>\n",
       "  <tbody>\n",
       "    <tr>\n",
       "      <th>0</th>\n",
       "      <td>Нур-Султан</td>\n",
       "      <td>по 14 апреля 2020 года</td>\n",
       "      <td>Социально-значимые продовольственные товары</td>\n",
       "      <td>100,3</td>\n",
       "    </tr>\n",
       "    <tr>\n",
       "      <th>1</th>\n",
       "      <td>Алматы</td>\n",
       "      <td>по 14 апреля 2020 года</td>\n",
       "      <td>Социально-значимые продовольственные товары</td>\n",
       "      <td>99,4</td>\n",
       "    </tr>\n",
       "    <tr>\n",
       "      <th>2</th>\n",
       "      <td>Шымкент</td>\n",
       "      <td>по 14 апреля 2020 года</td>\n",
       "      <td>Социально-значимые продовольственные товары</td>\n",
       "      <td>100,6</td>\n",
       "    </tr>\n",
       "    <tr>\n",
       "      <th>3</th>\n",
       "      <td>Актау</td>\n",
       "      <td>по 14 апреля 2020 года</td>\n",
       "      <td>Социально-значимые продовольственные товары</td>\n",
       "      <td>100,4</td>\n",
       "    </tr>\n",
       "    <tr>\n",
       "      <th>4</th>\n",
       "      <td>Актобе</td>\n",
       "      <td>по 14 апреля 2020 года</td>\n",
       "      <td>Социально-значимые продовольственные товары</td>\n",
       "      <td>100,9</td>\n",
       "    </tr>\n",
       "    <tr>\n",
       "      <th>...</th>\n",
       "      <td>...</td>\n",
       "      <td>...</td>\n",
       "      <td>...</td>\n",
       "      <td>...</td>\n",
       "    </tr>\n",
       "    <tr>\n",
       "      <th>133427</th>\n",
       "      <td>Семей</td>\n",
       "      <td>по 13 марта 2018 года</td>\n",
       "      <td>Капуста белокочанная</td>\n",
       "      <td>NaN</td>\n",
       "    </tr>\n",
       "    <tr>\n",
       "      <th>133428</th>\n",
       "      <td>Талдыкорган</td>\n",
       "      <td>по 13 марта 2018 года</td>\n",
       "      <td>Капуста белокочанная</td>\n",
       "      <td>NaN</td>\n",
       "    </tr>\n",
       "    <tr>\n",
       "      <th>133429</th>\n",
       "      <td>Тараз</td>\n",
       "      <td>по 13 марта 2018 года</td>\n",
       "      <td>Капуста белокочанная</td>\n",
       "      <td>NaN</td>\n",
       "    </tr>\n",
       "    <tr>\n",
       "      <th>133430</th>\n",
       "      <td>Шымкент</td>\n",
       "      <td>по 13 марта 2018 года</td>\n",
       "      <td>Капуста белокочанная</td>\n",
       "      <td>NaN</td>\n",
       "    </tr>\n",
       "    <tr>\n",
       "      <th>133431</th>\n",
       "      <td>По обследованным городам</td>\n",
       "      <td>по 13 марта 2018 года</td>\n",
       "      <td>Капуста белокочанная</td>\n",
       "      <td>NaN</td>\n",
       "    </tr>\n",
       "  </tbody>\n",
       "</table>\n",
       "<p>133432 rows × 4 columns</p>\n",
       "</div>"
      ],
      "text/plain": [
       "                          region                    date  \\\n",
       "0                     Нур-Султан  по 14 апреля 2020 года   \n",
       "1                         Алматы  по 14 апреля 2020 года   \n",
       "2                        Шымкент  по 14 апреля 2020 года   \n",
       "3                          Актау  по 14 апреля 2020 года   \n",
       "4                         Актобе  по 14 апреля 2020 года   \n",
       "...                          ...                     ...   \n",
       "133427                     Семей   по 13 марта 2018 года   \n",
       "133428               Талдыкорган   по 13 марта 2018 года   \n",
       "133429                     Тараз   по 13 марта 2018 года   \n",
       "133430                   Шымкент   по 13 марта 2018 года   \n",
       "133431  По обследованным городам   по 13 марта 2018 года   \n",
       "\n",
       "                                      type_of_goods price_in_per  \n",
       "0       Социально-значимые продовольственные товары        100,3  \n",
       "1       Социально-значимые продовольственные товары         99,4  \n",
       "2       Социально-значимые продовольственные товары        100,6  \n",
       "3       Социально-значимые продовольственные товары        100,4  \n",
       "4       Социально-значимые продовольственные товары        100,9  \n",
       "...                                             ...          ...  \n",
       "133427                         Капуста белокочанная          NaN  \n",
       "133428                         Капуста белокочанная          NaN  \n",
       "133429                         Капуста белокочанная          NaN  \n",
       "133430                         Капуста белокочанная          NaN  \n",
       "133431                         Капуста белокочанная          NaN  \n",
       "\n",
       "[133432 rows x 4 columns]"
      ]
     },
     "execution_count": 9,
     "metadata": {},
     "output_type": "execute_result"
    }
   ],
   "source": [
    "n_df"
   ]
  },
  {
   "cell_type": "code",
   "execution_count": null,
   "id": "921f3165",
   "metadata": {},
   "outputs": [],
   "source": []
  }
 ],
 "metadata": {
  "kernelspec": {
   "display_name": "Python 3",
   "language": "python",
   "name": "python3"
  },
  "language_info": {
   "codemirror_mode": {
    "name": "ipython",
    "version": 3
   },
   "file_extension": ".py",
   "mimetype": "text/x-python",
   "name": "python",
   "nbconvert_exporter": "python",
   "pygments_lexer": "ipython3",
   "version": "3.8.8"
  }
 },
 "nbformat": 4,
 "nbformat_minor": 5
}
