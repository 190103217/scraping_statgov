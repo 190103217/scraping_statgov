{
 "cells": [
  {
   "cell_type": "code",
   "execution_count": 1,
   "id": "46ea12ab",
   "metadata": {},
   "outputs": [],
   "source": [
    "import pandas as pd\n",
    "from docx import Document\n",
    "import os\n",
    "import time\n",
    "import re"
   ]
  },
  {
   "cell_type": "code",
   "execution_count": null,
   "id": "609abe48",
   "metadata": {},
   "outputs": [],
   "source": [
    "pip install"
   ]
  },
  {
   "cell_type": "code",
   "execution_count": 2,
   "id": "4c2b565f",
   "metadata": {},
   "outputs": [
    {
     "data": {
      "text/plain": [
       "'/Users/ajsaule'"
      ]
     },
     "execution_count": 2,
     "metadata": {},
     "output_type": "execute_result"
    }
   ],
   "source": [
    "basedir = os.getcwd()\n",
    "basedir"
   ]
  },
  {
   "cell_type": "code",
   "execution_count": 3,
   "id": "cfeee165",
   "metadata": {},
   "outputs": [],
   "source": [
    "dfs_2=[]"
   ]
  },
  {
   "cell_type": "code",
   "execution_count": 4,
   "id": "8e61f548",
   "metadata": {},
   "outputs": [],
   "source": [
    "def table_read_2(document):\n",
    "    document = Document(\"/Users/ajsaule/Desktop/parse/24 mar-17 may 2022/\"+file)\n",
    "    f=re.findall(r'по.*года', document.paragraphs[1].text)\n",
    "    for i in range(len(document.tables)):\n",
    "        if i==4:\n",
    "            table=document.tables[i]\n",
    "            data = [[cell.text for cell in row.cells] for row in table.rows]\n",
    "            df = pd.DataFrame(data)\n",
    "            df['date']=f[0]\n",
    "            #df.date = df.date.str.replace('по состоянию на ','').copy()\n",
    "            dfs_2.append(pd.DataFrame(df))"
   ]
  },
  {
   "cell_type": "code",
   "execution_count": 5,
   "id": "182062e5",
   "metadata": {},
   "outputs": [],
   "source": [
    "path ='/Users/ajsaule/Desktop/parse/24 mar-17 may 2022/'\n",
    "files = os.listdir(path)\n",
    "for file in files:\n",
    "    time.sleep(2)\n",
    "    if file.endswith('.docx'):\n",
    "        table_read_2(file)"
   ]
  },
  {
   "cell_type": "code",
   "execution_count": 6,
   "id": "9af3d65c",
   "metadata": {},
   "outputs": [],
   "source": [
    "dfs_2= pd.concat(dfs_2).reset_index().drop(columns=['index'])\n",
    "time.sleep(2)\n",
    "dfs_2= dfs_2.rename(columns=dfs_2.iloc[0]).drop(dfs_2.index[0]).reset_index(drop=True)\n",
    "time.sleep(2)\n",
    "dfs_2=dfs_2.rename(columns={dfs_2.columns[21]: 'date', dfs_2.columns[0]: 'type_of_goods'})\n",
    "time.sleep(2)\n",
    "dfs_2=dfs_2.melt(id_vars=['type_of_goods', 'date'], var_name=\"region\", value_name=\"price_in_per\")"
   ]
  },
  {
   "cell_type": "code",
   "execution_count": 7,
   "id": "5b3dbb8b",
   "metadata": {},
   "outputs": [
    {
     "data": {
      "text/html": [
       "<div>\n",
       "<style scoped>\n",
       "    .dataframe tbody tr th:only-of-type {\n",
       "        vertical-align: middle;\n",
       "    }\n",
       "\n",
       "    .dataframe tbody tr th {\n",
       "        vertical-align: top;\n",
       "    }\n",
       "\n",
       "    .dataframe thead th {\n",
       "        text-align: right;\n",
       "    }\n",
       "</style>\n",
       "<table border=\"1\" class=\"dataframe\">\n",
       "  <thead>\n",
       "    <tr style=\"text-align: right;\">\n",
       "      <th></th>\n",
       "      <th>type_of_goods</th>\n",
       "      <th>date</th>\n",
       "      <th>region</th>\n",
       "      <th>price_in_per</th>\n",
       "    </tr>\n",
       "  </thead>\n",
       "  <tbody>\n",
       "    <tr>\n",
       "      <th>0</th>\n",
       "      <td>Социально-значимые продовольственные товары</td>\n",
       "      <td>24 марта 2022 года</td>\n",
       "      <td>По обследованным городам</td>\n",
       "      <td>101,7</td>\n",
       "    </tr>\n",
       "    <tr>\n",
       "      <th>1</th>\n",
       "      <td>Мука пшеничная первого сорта</td>\n",
       "      <td>24 марта 2022 года</td>\n",
       "      <td>По обследованным городам</td>\n",
       "      <td>100,6</td>\n",
       "    </tr>\n",
       "    <tr>\n",
       "      <th>2</th>\n",
       "      <td>Хлеб пшеничный из муки первого сорта</td>\n",
       "      <td>24 марта 2022 года</td>\n",
       "      <td>По обследованным городам</td>\n",
       "      <td>100,5</td>\n",
       "    </tr>\n",
       "    <tr>\n",
       "      <th>3</th>\n",
       "      <td>Рожки (весовые)</td>\n",
       "      <td>24 марта 2022 года</td>\n",
       "      <td>По обследованным городам</td>\n",
       "      <td>101,2</td>\n",
       "    </tr>\n",
       "    <tr>\n",
       "      <th>4</th>\n",
       "      <td>Рис шлифованный, полированный (весовой)</td>\n",
       "      <td>24 марта 2022 года</td>\n",
       "      <td>По обследованным городам</td>\n",
       "      <td>101,1</td>\n",
       "    </tr>\n",
       "    <tr>\n",
       "      <th>...</th>\n",
       "      <td>...</td>\n",
       "      <td>...</td>\n",
       "      <td>...</td>\n",
       "      <td>...</td>\n",
       "    </tr>\n",
       "    <tr>\n",
       "      <th>1655</th>\n",
       "      <td>Лук репчатый</td>\n",
       "      <td>5 апреля 2022 года</td>\n",
       "      <td>Туркестан</td>\n",
       "      <td>106,5</td>\n",
       "    </tr>\n",
       "    <tr>\n",
       "      <th>1656</th>\n",
       "      <td>Капуста белокочанная</td>\n",
       "      <td>5 апреля 2022 года</td>\n",
       "      <td>Туркестан</td>\n",
       "      <td>104,2</td>\n",
       "    </tr>\n",
       "    <tr>\n",
       "      <th>1657</th>\n",
       "      <td>Сахар-песок</td>\n",
       "      <td>5 апреля 2022 года</td>\n",
       "      <td>Туркестан</td>\n",
       "      <td>101,3</td>\n",
       "    </tr>\n",
       "    <tr>\n",
       "      <th>1658</th>\n",
       "      <td>Яйца, 1 категории</td>\n",
       "      <td>5 апреля 2022 года</td>\n",
       "      <td>Туркестан</td>\n",
       "      <td>101,8</td>\n",
       "    </tr>\n",
       "    <tr>\n",
       "      <th>1659</th>\n",
       "      <td>Соль</td>\n",
       "      <td>5 апреля 2022 года</td>\n",
       "      <td>Туркестан</td>\n",
       "      <td>100,0</td>\n",
       "    </tr>\n",
       "  </tbody>\n",
       "</table>\n",
       "<p>1660 rows × 4 columns</p>\n",
       "</div>"
      ],
      "text/plain": [
       "                                    type_of_goods                date  \\\n",
       "0     Социально-значимые продовольственные товары  24 марта 2022 года   \n",
       "1                    Мука пшеничная первого сорта  24 марта 2022 года   \n",
       "2            Хлеб пшеничный из муки первого сорта  24 марта 2022 года   \n",
       "3                                 Рожки (весовые)  24 марта 2022 года   \n",
       "4         Рис шлифованный, полированный (весовой)  24 марта 2022 года   \n",
       "...                                           ...                 ...   \n",
       "1655                                 Лук репчатый  5 апреля 2022 года   \n",
       "1656                         Капуста белокочанная  5 апреля 2022 года   \n",
       "1657                                  Сахар-песок  5 апреля 2022 года   \n",
       "1658                            Яйца, 1 категории  5 апреля 2022 года   \n",
       "1659                                         Соль  5 апреля 2022 года   \n",
       "\n",
       "                        region price_in_per  \n",
       "0     По обследованным городам        101,7  \n",
       "1     По обследованным городам        100,6  \n",
       "2     По обследованным городам        100,5  \n",
       "3     По обследованным городам        101,2  \n",
       "4     По обследованным городам        101,1  \n",
       "...                        ...          ...  \n",
       "1655                 Туркестан        106,5  \n",
       "1656                 Туркестан        104,2  \n",
       "1657                 Туркестан        101,3  \n",
       "1658                 Туркестан        101,8  \n",
       "1659                 Туркестан        100,0  \n",
       "\n",
       "[1660 rows x 4 columns]"
      ]
     },
     "execution_count": 7,
     "metadata": {},
     "output_type": "execute_result"
    }
   ],
   "source": [
    "dfs_2"
   ]
  },
  {
   "cell_type": "code",
   "execution_count": null,
   "id": "f4b4daf3",
   "metadata": {},
   "outputs": [],
   "source": []
  }
 ],
 "metadata": {
  "kernelspec": {
   "display_name": "Python 3",
   "language": "python",
   "name": "python3"
  },
  "language_info": {
   "codemirror_mode": {
    "name": "ipython",
    "version": 3
   },
   "file_extension": ".py",
   "mimetype": "text/x-python",
   "name": "python",
   "nbconvert_exporter": "python",
   "pygments_lexer": "ipython3",
   "version": "3.8.8"
  }
 },
 "nbformat": 4,
 "nbformat_minor": 5
}
